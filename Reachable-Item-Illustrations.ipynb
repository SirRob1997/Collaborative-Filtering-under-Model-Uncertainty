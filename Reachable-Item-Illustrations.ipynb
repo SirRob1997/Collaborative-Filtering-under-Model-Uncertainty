{
 "cells": [
  {
   "cell_type": "code",
   "execution_count": 2,
   "metadata": {},
   "outputs": [],
   "source": [
    "%load_ext autoreload\n",
    "%autoreload 2\n",
    "%matplotlib notebook\n"
   ]
  },
  {
   "cell_type": "code",
   "execution_count": 2,
   "metadata": {},
   "outputs": [],
   "source": [
    "import numpy as np\n",
    "\n",
    "import matplotlib.pyplot as plt\n",
    "%matplotlib notebook\n",
    "\n",
    "import reachability as re\n"
   ]
  },
  {
   "cell_type": "code",
   "execution_count": 3,
   "metadata": {},
   "outputs": [],
   "source": [
    "savefigures = False\n",
    "savepath = 'tmp/'"
   ]
  },
  {
   "cell_type": "code",
   "execution_count": 4,
   "metadata": {},
   "outputs": [],
   "source": [
    "item_factors = [ [0.2, 1], [1, 0.1],  [-0.1, -0.5], \n",
    "                 [-0.5, -0.75], [-0.1, 0.5]]\n",
    "Q = np.array(item_factors)\n"
   ]
  },
  {
   "cell_type": "code",
   "execution_count": 5,
   "metadata": {},
   "outputs": [
    {
     "data": {
      "image/png": "[encoded data removed]",
      "text/plain": [
       "<Figure size 360x360 with 1 Axes>"
      ]
     },
     "metadata": {},
     "output_type": "display_data"
    }
   ],
   "source": [
    "# colors the regions by the top-(X+1) pick\n",
    "color_region_by = 0\n",
    "\n",
    "re.plot_latent_space(Q.T, [], nonnegative=False, \n",
    "    color_by_top=color_region_by, colorbar=False, figsize=(5,5), title=None)\n",
    "\n",
    "if savefigures: plt.savefig(savepath+'items.pdf', bbox_inches = 'tight',)"
   ]
  },
  {
   "cell_type": "code",
   "execution_count": 6,
   "metadata": {},
   "outputs": [
    {
     "name": "stdout",
     "output_type": "stream",
     "text": [
      "4\n",
      "CPU times: user 4 ms, sys: 0 ns, total: 4 ms\n",
      "Wall time: 16.6 ms\n"
     ]
    }
   ],
   "source": [
    "%%time\n",
    "leaves = re.get_top_n_regions(Q.T, 1, unit=1.2,  nonnegative=False) \n",
    "all_recs = [leaf.get_rec_list() for leaf in leaves]\n",
    "print(len(np.unique(all_recs)))"
   ]
  },
  {
   "cell_type": "code",
   "execution_count": 8,
   "metadata": {},
   "outputs": [
    {
     "data": {
      "image/png": "[encoded data removed]",
      "text/plain": [
       "<Figure size 360x360 with 1 Axes>"
      ]
     },
     "metadata": {},
     "output_type": "display_data"
    }
   ],
   "source": [
    "# colors the regions by the top-(X+1) pick\n",
    "color_region_by = 0\n",
    "\n",
    "re.plot_latent_space(Q.T, leaves, nonnegative=False, \n",
    "    color_by_top=color_region_by, colorbar=False, figsize=(5,5), title=None)\n",
    "\n",
    "if savefigures: plt.savefig(savepath+'item_region.pdf', bbox_inches = 'tight',)"
   ]
  },
  {
   "cell_type": "code",
   "execution_count": 9,
   "metadata": {},
   "outputs": [],
   "source": [
    "mutable = [3]\n",
    "immutable = [1]\n",
    "total = mutable+immutable\n",
    "unseen = [i for i in range(len(item_factors)) if i not in total]\n",
    "rating = [-0.5]\n",
    "\n",
    "W = np.linalg.inv( Q[total].T.dot(Q[total]) ) #+ 0.001*np.eye(2)\n",
    "B = W.dot(Q[mutable].T)\n",
    "\n",
    "v0 = W.dot(Q[immutable].T.dot(rating)).reshape(-1,1)+0.02\n",
    "\n",
    "a_full = np.linspace(-0.5,1,20).reshape(1,-1)\n",
    "a_bounded = np.linspace(-0.35,0.35,20).reshape(1,-1)\n",
    "a_int = np.linspace(-0.35,0.35,3).reshape(1,-1)\n",
    "\n",
    "p_full = B.dot(a_full) + v0\n",
    "p_bounded = B.dot(a_bounded) + v0\n",
    "p_int = B.dot(a_int) + v0\n"
   ]
  },
  {
   "cell_type": "code",
   "execution_count": 10,
   "metadata": {},
   "outputs": [
    {
     "name": "stdout",
     "output_type": "stream",
     "text": [
      "5\n",
      "CPU times: user 4 ms, sys: 0 ns, total: 4 ms\n",
      "Wall time: 2.5 ms\n"
     ]
    }
   ],
   "source": [
    "%%time\n",
    "Qcheck = np.zeros_like(Q)\n",
    "Qcheck[unseen] = Q[unseen]\n",
    "leaves = re.get_top_n_regions(Qcheck.T, 1, unit=1.2,  nonnegative=False) \n",
    "all_recs = [leaf.get_rec_list() for leaf in leaves]\n",
    "print(len(np.unique(all_recs)))"
   ]
  },
  {
   "cell_type": "code",
   "execution_count": 11,
   "metadata": {
    "scrolled": false
   },
   "outputs": [
    {
     "data": {
      "image/png": "[encoded data removed]",
      "text/plain": [
       "<Figure size 360x360 with 1 Axes>"
      ]
     },
     "metadata": {},
     "output_type": "display_data"
    }
   ],
   "source": [
    "# colors the regions by the top-(X+1) pick\n",
    "color_region_by = 0\n",
    "\n",
    "ax = re.plot_latent_space(Q.T, leaves, nonnegative=False, \n",
    "    color_by_top=color_region_by, colorbar=False, figsize=(5,5), title=None)\n",
    "for i in total:\n",
    "    plt.scatter(item_factors[i][0], item_factors[i][1], edgecolors='black', marker='o', s=50, color='grey')\n",
    "\n",
    "\n",
    "ax.arrow(p_full[0,0], p_full[1,0], p_full[0,-1]-p_full[0,0], p_full[1,-1]-p_full[1,0], fc='k', ec='k', lw = 1, \n",
    "                 head_width=0.1, head_length=0.1, overhang = 0.5, \n",
    "                 length_includes_head=True, clip_on = False) \n",
    "ax.arrow(p_full[0,-1], p_full[1,-1], p_full[0,0]-p_full[0,-1], p_full[1,0]-p_full[1,-1], fc='k', ec='k', lw = 1, \n",
    "                 head_width=0.1, head_length=0.1, overhang = 0.5, \n",
    "                 length_includes_head=True, clip_on = False) \n",
    "\n",
    "plt.plot(p_bounded[0], p_bounded[1], color='red')\n",
    "plt.scatter(p_int[0], p_int[1], color='red', marker='s', s=25)\n",
    "\n",
    "if savefigures: plt.savefig(savepath+'user_constraints.pdf', bbox_inches = 'tight',)"
   ]
  },
  {
   "cell_type": "code",
   "execution_count": null,
   "metadata": {
    "collapsed": true
   },
   "outputs": [],
   "source": []
  }
 ],
 "metadata": {
  "kernelspec": {
   "display_name": "Python 3",
   "language": "python",
   "name": "python3"
  },
  "language_info": {
   "codemirror_mode": {
    "name": "ipython",
    "version": 3
   },
   "file_extension": ".py",
   "mimetype": "text/x-python",
   "name": "python",
   "nbconvert_exporter": "python",
   "pygments_lexer": "ipython3",
   "version": "3.7.4"
  }
 },
 "nbformat": 4,
 "nbformat_minor": 2
}
