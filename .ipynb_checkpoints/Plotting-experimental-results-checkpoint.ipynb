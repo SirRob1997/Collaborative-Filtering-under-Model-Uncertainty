{
 "cells": [
  {
   "cell_type": "code",
   "execution_count": 1,
   "metadata": {},
   "outputs": [],
   "source": [
    "import numpy as np\n",
    "import matplotlib\n",
    "import sys\n",
    "import os \n",
    "import matplotlib.pyplot as plt\n",
    "import scipy\n",
    "import scipy.sparse\n",
    "\n",
    "import reachability as re\n",
    "import pywFM as fm\n",
    "\n",
    "import pandas as pd\n",
    "\n",
    "import seaborn as sns"
   ]
  },
  {
   "cell_type": "code",
   "execution_count": 2,
   "metadata": {},
   "outputs": [],
   "source": [
    "%load_ext autoreload\n",
    "%autoreload 2\n",
    "%matplotlib notebook\n"
   ]
  },
  {
   "cell_type": "code",
   "execution_count": 3,
   "metadata": {},
   "outputs": [],
   "source": [
    "# import matplotlib.font_manager as font_manager\n",
    "# for font in  font_manager.findSystemFonts():\n",
    "#     print(font)\n",
    "# # https://dallascard.github.io/changing-the-font-in-matplotlib.html"
   ]
  },
  {
   "cell_type": "code",
   "execution_count": 4,
   "metadata": {},
   "outputs": [],
   "source": [
    "    \n",
    "from os.path import expanduser\n",
    "import matplotlib as mpl\n",
    "import matplotlib.font_manager as font_manager\n",
    "fontpath = expanduser('/usr/share/fonts/opentype/linux-libertine/LinLibertine_R.otf')\n",
    "prop = font_manager.FontProperties(fname=fontpath)\n",
    "mpl.rcParams['font.family'] = prop.get_name()\n",
    "mpl.rcParams['text.usetex'] = True"
   ]
  },
  {
   "cell_type": "code",
   "execution_count": 5,
   "metadata": {},
   "outputs": [],
   "source": [
    "# matplotlib.rcParams['text.usetex'] = True\n",
    "sns.set(style=\"ticks\")\n",
    "plt.rc('font', family='serif')\n",
    "plt.rc('font', serif=prop.get_name())\n",
    "\n",
    "\n",
    "SMALL_SIZE = 12\n",
    "MEDIUM_SIZE = 14\n",
    "BIGGER_SIZE = 16\n",
    "\n",
    "plt.rc('font', size=SMALL_SIZE)          # controls default text sizes\n",
    "plt.rc('axes', titlesize=BIGGER_SIZE)     # fontsize of the axes title\n",
    "plt.rc('axes', labelsize=MEDIUM_SIZE)    # fontsize of the x and y labels\n",
    "plt.rc('xtick', labelsize=SMALL_SIZE)    # fontsize of the tick labels\n",
    "plt.rc('ytick', labelsize=SMALL_SIZE)    # fontsize of the tick labels\n",
    "plt.rc('legend', fontsize=SMALL_SIZE)    # legend fontsize\n",
    "plt.rc('figure', titlesize=BIGGER_SIZE)  # fontsize of the figure title\n",
    "\n",
    "\n",
    "outfilestem = 'temp_plots/'  \n"
   ]
  },
  {
   "cell_type": "markdown",
   "metadata": {},
   "source": [
    "# Plotting Over Multiple k"
   ]
  },
  {
   "cell_type": "code",
   "execution_count": 6,
   "metadata": {},
   "outputs": [],
   "source": [
    "\n",
    "datapaths =['./ml-10M100K/',\n",
    "            './lastfm-dataset-1K/']\n",
    "filenames = ['ml', 'fm'] \n"
   ]
  },
  {
   "cell_type": "code",
   "execution_count": 7,
   "metadata": {},
   "outputs": [],
   "source": [
    "latent_dims = [16, 32, 64, 128, 256, 512]\n",
    "cmap = plt.cm.autumn\n",
    "color_list_unreach = [plt.cm.autumn(i) for i in range(0,cmap.N,int(cmap.N/len(latent_dims)))]\n",
    "color_list_reach = [plt.cm.summer(i) for i in range(0,cmap.N,int(cmap.N/len(latent_dims)))]\n"
   ]
  },
  {
   "cell_type": "code",
   "execution_count": 8,
   "metadata": {},
   "outputs": [
    {
     "name": "stderr",
     "output_type": "stream",
     "text": [
      "/home/moritz/anaconda3/lib/python3.7/site-packages/ipykernel_launcher.py:1: ParserWarning: Falling back to the 'python' engine because the 'c' engine does not support regex separators (separators > 1 char and different from '\\s+' are interpreted as regex); you can avoid this warning by specifying engine='python'.\n",
      "  \"\"\"Entry point for launching an IPython kernel.\n"
     ]
    },
    {
     "ename": "FileNotFoundError",
     "evalue": "[Errno 2] No such file or directory: './ml-10M100K/ratings.dat'",
     "output_type": "error",
     "traceback": [
      "\u001b[0;31m---------------------------------------------------------------------------\u001b[0m",
      "\u001b[0;31mFileNotFoundError\u001b[0m                         Traceback (most recent call last)",
      "\u001b[0;32m<ipython-input-8-dc2cfe4558bf>\u001b[0m in \u001b[0;36m<module>\u001b[0;34m\u001b[0m\n\u001b[0;32m----> 1\u001b[0;31m \u001b[0mdf\u001b[0m \u001b[0;34m=\u001b[0m \u001b[0mpd\u001b[0m\u001b[0;34m.\u001b[0m\u001b[0mread_csv\u001b[0m\u001b[0;34m(\u001b[0m\u001b[0;34m'./ml-10M100K/'\u001b[0m \u001b[0;34m+\u001b[0m \u001b[0;34m'ratings.dat'\u001b[0m\u001b[0;34m,\u001b[0m \u001b[0msep\u001b[0m\u001b[0;34m=\u001b[0m\u001b[0;34m'::'\u001b[0m\u001b[0;34m,\u001b[0m \u001b[0mheader\u001b[0m\u001b[0;34m=\u001b[0m\u001b[0;32mNone\u001b[0m\u001b[0;34m)\u001b[0m\u001b[0;34m\u001b[0m\u001b[0;34m\u001b[0m\u001b[0m\n\u001b[0m\u001b[1;32m      2\u001b[0m \u001b[0mdf\u001b[0m\u001b[0;34m\u001b[0m\u001b[0;34m\u001b[0m\u001b[0m\n",
      "\u001b[0;32m~/anaconda3/lib/python3.7/site-packages/pandas/io/parsers.py\u001b[0m in \u001b[0;36mparser_f\u001b[0;34m(filepath_or_buffer, sep, delimiter, header, names, index_col, usecols, squeeze, prefix, mangle_dupe_cols, dtype, engine, converters, true_values, false_values, skipinitialspace, skiprows, skipfooter, nrows, na_values, keep_default_na, na_filter, verbose, skip_blank_lines, parse_dates, infer_datetime_format, keep_date_col, date_parser, dayfirst, cache_dates, iterator, chunksize, compression, thousands, decimal, lineterminator, quotechar, quoting, doublequote, escapechar, comment, encoding, dialect, error_bad_lines, warn_bad_lines, delim_whitespace, low_memory, memory_map, float_precision)\u001b[0m\n\u001b[1;32m    674\u001b[0m         )\n\u001b[1;32m    675\u001b[0m \u001b[0;34m\u001b[0m\u001b[0m\n\u001b[0;32m--> 676\u001b[0;31m         \u001b[0;32mreturn\u001b[0m \u001b[0m_read\u001b[0m\u001b[0;34m(\u001b[0m\u001b[0mfilepath_or_buffer\u001b[0m\u001b[0;34m,\u001b[0m \u001b[0mkwds\u001b[0m\u001b[0;34m)\u001b[0m\u001b[0;34m\u001b[0m\u001b[0;34m\u001b[0m\u001b[0m\n\u001b[0m\u001b[1;32m    677\u001b[0m \u001b[0;34m\u001b[0m\u001b[0m\n\u001b[1;32m    678\u001b[0m     \u001b[0mparser_f\u001b[0m\u001b[0;34m.\u001b[0m\u001b[0m__name__\u001b[0m \u001b[0;34m=\u001b[0m \u001b[0mname\u001b[0m\u001b[0;34m\u001b[0m\u001b[0;34m\u001b[0m\u001b[0m\n",
      "\u001b[0;32m~/anaconda3/lib/python3.7/site-packages/pandas/io/parsers.py\u001b[0m in \u001b[0;36m_read\u001b[0;34m(filepath_or_buffer, kwds)\u001b[0m\n\u001b[1;32m    446\u001b[0m \u001b[0;34m\u001b[0m\u001b[0m\n\u001b[1;32m    447\u001b[0m     \u001b[0;31m# Create the parser.\u001b[0m\u001b[0;34m\u001b[0m\u001b[0;34m\u001b[0m\u001b[0;34m\u001b[0m\u001b[0m\n\u001b[0;32m--> 448\u001b[0;31m     \u001b[0mparser\u001b[0m \u001b[0;34m=\u001b[0m \u001b[0mTextFileReader\u001b[0m\u001b[0;34m(\u001b[0m\u001b[0mfp_or_buf\u001b[0m\u001b[0;34m,\u001b[0m \u001b[0;34m**\u001b[0m\u001b[0mkwds\u001b[0m\u001b[0;34m)\u001b[0m\u001b[0;34m\u001b[0m\u001b[0;34m\u001b[0m\u001b[0m\n\u001b[0m\u001b[1;32m    449\u001b[0m \u001b[0;34m\u001b[0m\u001b[0m\n\u001b[1;32m    450\u001b[0m     \u001b[0;32mif\u001b[0m \u001b[0mchunksize\u001b[0m \u001b[0;32mor\u001b[0m \u001b[0miterator\u001b[0m\u001b[0;34m:\u001b[0m\u001b[0;34m\u001b[0m\u001b[0;34m\u001b[0m\u001b[0m\n",
      "\u001b[0;32m~/anaconda3/lib/python3.7/site-packages/pandas/io/parsers.py\u001b[0m in \u001b[0;36m__init__\u001b[0;34m(self, f, engine, **kwds)\u001b[0m\n\u001b[1;32m    878\u001b[0m             \u001b[0mself\u001b[0m\u001b[0;34m.\u001b[0m\u001b[0moptions\u001b[0m\u001b[0;34m[\u001b[0m\u001b[0;34m\"has_index_names\"\u001b[0m\u001b[0;34m]\u001b[0m \u001b[0;34m=\u001b[0m \u001b[0mkwds\u001b[0m\u001b[0;34m[\u001b[0m\u001b[0;34m\"has_index_names\"\u001b[0m\u001b[0;34m]\u001b[0m\u001b[0;34m\u001b[0m\u001b[0;34m\u001b[0m\u001b[0m\n\u001b[1;32m    879\u001b[0m \u001b[0;34m\u001b[0m\u001b[0m\n\u001b[0;32m--> 880\u001b[0;31m         \u001b[0mself\u001b[0m\u001b[0;34m.\u001b[0m\u001b[0m_make_engine\u001b[0m\u001b[0;34m(\u001b[0m\u001b[0mself\u001b[0m\u001b[0;34m.\u001b[0m\u001b[0mengine\u001b[0m\u001b[0;34m)\u001b[0m\u001b[0;34m\u001b[0m\u001b[0;34m\u001b[0m\u001b[0m\n\u001b[0m\u001b[1;32m    881\u001b[0m \u001b[0;34m\u001b[0m\u001b[0m\n\u001b[1;32m    882\u001b[0m     \u001b[0;32mdef\u001b[0m \u001b[0mclose\u001b[0m\u001b[0;34m(\u001b[0m\u001b[0mself\u001b[0m\u001b[0;34m)\u001b[0m\u001b[0;34m:\u001b[0m\u001b[0;34m\u001b[0m\u001b[0;34m\u001b[0m\u001b[0m\n",
      "\u001b[0;32m~/anaconda3/lib/python3.7/site-packages/pandas/io/parsers.py\u001b[0m in \u001b[0;36m_make_engine\u001b[0;34m(self, engine)\u001b[0m\n\u001b[1;32m   1124\u001b[0m                     \u001b[0;34m'\"python-fwf\")'\u001b[0m\u001b[0;34m\u001b[0m\u001b[0;34m\u001b[0m\u001b[0m\n\u001b[1;32m   1125\u001b[0m                 )\n\u001b[0;32m-> 1126\u001b[0;31m             \u001b[0mself\u001b[0m\u001b[0;34m.\u001b[0m\u001b[0m_engine\u001b[0m \u001b[0;34m=\u001b[0m \u001b[0mklass\u001b[0m\u001b[0;34m(\u001b[0m\u001b[0mself\u001b[0m\u001b[0;34m.\u001b[0m\u001b[0mf\u001b[0m\u001b[0;34m,\u001b[0m \u001b[0;34m**\u001b[0m\u001b[0mself\u001b[0m\u001b[0;34m.\u001b[0m\u001b[0moptions\u001b[0m\u001b[0;34m)\u001b[0m\u001b[0;34m\u001b[0m\u001b[0;34m\u001b[0m\u001b[0m\n\u001b[0m\u001b[1;32m   1127\u001b[0m \u001b[0;34m\u001b[0m\u001b[0m\n\u001b[1;32m   1128\u001b[0m     \u001b[0;32mdef\u001b[0m \u001b[0m_failover_to_python\u001b[0m\u001b[0;34m(\u001b[0m\u001b[0mself\u001b[0m\u001b[0;34m)\u001b[0m\u001b[0;34m:\u001b[0m\u001b[0;34m\u001b[0m\u001b[0;34m\u001b[0m\u001b[0m\n",
      "\u001b[0;32m~/anaconda3/lib/python3.7/site-packages/pandas/io/parsers.py\u001b[0m in \u001b[0;36m__init__\u001b[0;34m(self, f, **kwds)\u001b[0m\n\u001b[1;32m   2267\u001b[0m             \u001b[0mencoding\u001b[0m\u001b[0;34m=\u001b[0m\u001b[0mself\u001b[0m\u001b[0;34m.\u001b[0m\u001b[0mencoding\u001b[0m\u001b[0;34m,\u001b[0m\u001b[0;34m\u001b[0m\u001b[0;34m\u001b[0m\u001b[0m\n\u001b[1;32m   2268\u001b[0m             \u001b[0mcompression\u001b[0m\u001b[0;34m=\u001b[0m\u001b[0mself\u001b[0m\u001b[0;34m.\u001b[0m\u001b[0mcompression\u001b[0m\u001b[0;34m,\u001b[0m\u001b[0;34m\u001b[0m\u001b[0;34m\u001b[0m\u001b[0m\n\u001b[0;32m-> 2269\u001b[0;31m             \u001b[0mmemory_map\u001b[0m\u001b[0;34m=\u001b[0m\u001b[0mself\u001b[0m\u001b[0;34m.\u001b[0m\u001b[0mmemory_map\u001b[0m\u001b[0;34m,\u001b[0m\u001b[0;34m\u001b[0m\u001b[0;34m\u001b[0m\u001b[0m\n\u001b[0m\u001b[1;32m   2270\u001b[0m         )\n\u001b[1;32m   2271\u001b[0m         \u001b[0mself\u001b[0m\u001b[0;34m.\u001b[0m\u001b[0mhandles\u001b[0m\u001b[0;34m.\u001b[0m\u001b[0mextend\u001b[0m\u001b[0;34m(\u001b[0m\u001b[0mhandles\u001b[0m\u001b[0;34m)\u001b[0m\u001b[0;34m\u001b[0m\u001b[0;34m\u001b[0m\u001b[0m\n",
      "\u001b[0;32m~/anaconda3/lib/python3.7/site-packages/pandas/io/common.py\u001b[0m in \u001b[0;36mget_handle\u001b[0;34m(path_or_buf, mode, encoding, compression, memory_map, is_text)\u001b[0m\n\u001b[1;32m    429\u001b[0m         \u001b[0;32melif\u001b[0m \u001b[0mis_text\u001b[0m\u001b[0;34m:\u001b[0m\u001b[0;34m\u001b[0m\u001b[0;34m\u001b[0m\u001b[0m\n\u001b[1;32m    430\u001b[0m             \u001b[0;31m# No explicit encoding\u001b[0m\u001b[0;34m\u001b[0m\u001b[0;34m\u001b[0m\u001b[0;34m\u001b[0m\u001b[0m\n\u001b[0;32m--> 431\u001b[0;31m             \u001b[0mf\u001b[0m \u001b[0;34m=\u001b[0m \u001b[0mopen\u001b[0m\u001b[0;34m(\u001b[0m\u001b[0mpath_or_buf\u001b[0m\u001b[0;34m,\u001b[0m \u001b[0mmode\u001b[0m\u001b[0;34m,\u001b[0m \u001b[0merrors\u001b[0m\u001b[0;34m=\u001b[0m\u001b[0;34m\"replace\"\u001b[0m\u001b[0;34m,\u001b[0m \u001b[0mnewline\u001b[0m\u001b[0;34m=\u001b[0m\u001b[0;34m\"\"\u001b[0m\u001b[0;34m)\u001b[0m\u001b[0;34m\u001b[0m\u001b[0;34m\u001b[0m\u001b[0m\n\u001b[0m\u001b[1;32m    432\u001b[0m         \u001b[0;32melse\u001b[0m\u001b[0;34m:\u001b[0m\u001b[0;34m\u001b[0m\u001b[0;34m\u001b[0m\u001b[0m\n\u001b[1;32m    433\u001b[0m             \u001b[0;31m# Binary mode\u001b[0m\u001b[0;34m\u001b[0m\u001b[0;34m\u001b[0m\u001b[0;34m\u001b[0m\u001b[0m\n",
      "\u001b[0;31mFileNotFoundError\u001b[0m: [Errno 2] No such file or directory: './ml-10M100K/ratings.dat'"
     ]
    }
   ],
   "source": [
    "df = pd.read_csv('./ml-10M100K/' + 'ratings.dat', sep='::', header=None)\n",
    "df"
   ]
  },
  {
   "cell_type": "code",
   "execution_count": null,
   "metadata": {},
   "outputs": [],
   "source": [
    "## Dataset Distribution\n",
    "\n",
    "\n",
    "plt.figure(figsize=(6,3))\n",
    "plt.subplot(1,2,1)\n",
    "ax = df[2].hist()\n",
    "ax.set_yticklabels([int(y / 1000000) for y in ax.get_yticks()])\n",
    "plt.ylabel('millions of datapoints')\n",
    "plt.xlabel('ratings')\n",
    "plt.title('MovieLens')\n",
    "\n",
    "\n",
    "## Dataset Distribution\n",
    "\n",
    "df2 = pd.read_csv('./lastfm-dataset-1K/' + 'lfm1k-log-play-counts.csv', header=None)\n",
    "plt.subplot(1,2,2)\n",
    "ax = df2[2].hist()\n",
    "ax.set_yticklabels([int(y / 100000) for y in ax.get_yticks()])\n",
    "plt.ylabel('100,000 datapoints')\n",
    "plt.xlabel('log-listens')\n",
    "plt.title('LastFM')\n",
    "\n",
    "plt.tight_layout()\n",
    "plt.savefig(outfilestem+'data-dist.pdf', bbox_inches='tight')"
   ]
  },
  {
   "cell_type": "code",
   "execution_count": null,
   "metadata": {},
   "outputs": [],
   "source": [
    "res_data = {}\n",
    "for datapath, filename in zip(datapaths, filenames):\n",
    "\n",
    "    data = {}\n",
    "    for latent_dim in latent_dims:\n",
    "        savefile = os.path.join(datapath, filename+'_reachability_k={}.npz'.format(latent_dim))\n",
    "        data[latent_dim] = np.load(savefile, allow_pickle=True)\n",
    "        \n",
    "    res_data[filename] = data\n"
   ]
  },
  {
   "cell_type": "code",
   "execution_count": null,
   "metadata": {},
   "outputs": [],
   "source": [
    "[key for key in res_data['ml'][16].keys()]"
   ]
  },
  {
   "cell_type": "code",
   "execution_count": null,
   "metadata": {},
   "outputs": [],
   "source": [
    "## Model Accuracy\n",
    "\n",
    "\n",
    "for datapath, filename in zip(datapaths, filenames):\n",
    "    data =res_data [filename]\n",
    "\n",
    "    RMSEs = []\n",
    "    for j,latent_dim in enumerate(latent_dims):\n",
    "        RMSEs.append(data[latent_dim]['RMSE'])\n",
    "\n",
    "\n",
    "    plt.figure(figsize=(6,3))\n",
    "    plt.plot(latent_dims, RMSEs, '-o', color='black')\n",
    "#     plt.ylim([0.76, 0.79])\n",
    "    plt.ylabel('RMSE')\n",
    "    plt.xlabel('latent dimension')\n",
    "    plt.title('Predictive Accuracy')\n",
    "    plt.tight_layout()\n",
    "    plt.savefig(outfilestem+'model-acc.pdf', bbox_inches='tight')"
   ]
  },
  {
   "cell_type": "code",
   "execution_count": null,
   "metadata": {},
   "outputs": [],
   "source": [
    "data[latent_dim]"
   ]
  },
  {
   "cell_type": "code",
   "execution_count": null,
   "metadata": {},
   "outputs": [],
   "source": [
    "data"
   ]
  },
  {
   "cell_type": "code",
   "execution_count": null,
   "metadata": {
    "scrolled": false
   },
   "outputs": [],
   "source": [
    "## Item reachability vs. N with lines for multiple k\n",
    "for key, data in res_data.items():\n",
    "    plt.figure(figsize=(6,4))\n",
    "    for j,latent_dim in enumerate(latent_dims):\n",
    "        plt.plot(data[latent_dim]['Ns'],[len(reach) for reach in data[latent_dim]['reachable_items']], '-o', \n",
    "                 label='d={}'.format(latent_dim), color=color_list_reach[j],alpha=0.9)\n",
    "    plt.title('Top-$N$ Availability')\n",
    "    plt.ylabel('number of items'); plt.xlabel('$N$'); plt.legend(loc='lower right')\n",
    "    plt.tight_layout()\n",
    "\n",
    "    plt.savefig(outfilestem+'item-reachable-vs-n.pdf', bbox_inches='tight')"
   ]
  },
  {
   "cell_type": "code",
   "execution_count": null,
   "metadata": {
    "scrolled": true
   },
   "outputs": [],
   "source": [
    "df_item_reach = {}\n",
    "statfiles = ['movie_genres_stats.csv', 'artist_genres_stats.csv']\n",
    "\n",
    "for filename, datapath, statfile in zip(filenames, datapaths, statfiles):\n",
    "    print(filename, datapath)\n",
    "    data = res_data[filename]\n",
    "    df = pd.read_csv(datapath+statfile)\n",
    "\n",
    "    for k in latent_dims:\n",
    "        for n,reach in zip(data[latent_dim]['Ns'], data[k]['reachable_items']):\n",
    "            print(n, len(reach))\n",
    "            df['top-{} reachable,{}'.format(n,k)] = np.zeros(df.shape[0])\n",
    "            for i in reach:\n",
    "                df.loc[df['ordered_id']==i,'top-{} reachable,{}'.format(n,k)] = 1\n",
    "        \n",
    "    df_item_reach[filename] = df        "
   ]
  },
  {
   "cell_type": "code",
   "execution_count": null,
   "metadata": {},
   "outputs": [],
   "source": [
    "filenames\n"
   ]
  },
  {
   "cell_type": "code",
   "execution_count": null,
   "metadata": {},
   "outputs": [],
   "source": [
    "df_item_reach['fm']"
   ]
  },
  {
   "cell_type": "code",
   "execution_count": null,
   "metadata": {
    "scrolled": false
   },
   "outputs": [],
   "source": [
    "# df_item_reach = df\n",
    "center_measures = ['average', 'median']\n",
    "for filename, cm in zip(filenames, center_measures):\n",
    "    print(filename)\n",
    "    df = df_item_reach[filename]\n",
    "    n=5\n",
    "\n",
    "    plt.figure(figsize=(6,4))\n",
    "    from pylab import gcf\n",
    "    fig = gcf()\n",
    "    # plt.figure()\n",
    "    # bins = np.linspace(0,5,50)\n",
    "\n",
    "    bins = 10**(np.linspace(0,4,50))\n",
    "    ax = plt.subplot(121)\n",
    "    plt.hist(df['n_ratings_train'],\n",
    "                 bins=bins, alpha=0.75,  histtype='step',\n",
    "                               cumulative=True,  density=True, color='black',linewidth=1)\n",
    "    ax.set_xscale('log')\n",
    "    for j,k in enumerate(latent_dims[:4]):\n",
    "\n",
    "\n",
    "    #     plot = [df[df['top-{} reachable,{}'.format(n,k)]==i]['average_ratings_train'] for i in [0,1]]\n",
    "        plot = [df[df['top-{} reachable,{}'.format(n,k)]==i]['n_ratings_train'] for i in [0,1]] #*df[df['top-{} reachable'.format(n)]==0]['average_ratings_train']\n",
    "        sns.distplot(plot[1], bins=bins, color=color_list_reach[j],\n",
    "                     kde=False, hist_kws=dict(cumulative=True,density=True,histtype='step',linewidth=2))\n",
    "        sns.distplot(plot[0], bins=bins, label='unreachable, d={}'.format(k), color=color_list_unreach[j],\n",
    "                     kde=False, hist_kws=dict(cumulative=True,density=True,histtype='step',linewidth=2))\n",
    "        plt.xlabel('number of ratings');\n",
    "\n",
    "        plt.ylabel('cumulative frequency'); \n",
    "\n",
    "    ax.margins(x=0)\n",
    "\n",
    "    bins = np.linspace(0,5,50)\n",
    "    ax = plt.subplot(122)\n",
    "    plt.hist(df['{}_ratings_train'.format(cm)],\n",
    "                 bins=bins, alpha=0.75, label='population',  histtype='step',\n",
    "                               cumulative=True,  density=True, color='black',linewidth=1)\n",
    "    for j,k in enumerate(latent_dims[:4]):\n",
    "        plot = [df[df['top-{} reachable,{}'.format(n,k)]==i]['{}_ratings_train'.format(cm)] for i in [0,1]] #*df[df['top-{} reachable'.format(n)]==0]['average_ratings_train']\n",
    "        sns.distplot(plot[1], bins=bins, label='reachable, d={}'.format(k), color=color_list_reach[j],\n",
    "                     kde=False, hist_kws=dict(cumulative=True,density=True,histtype='step', linewidth=2))\n",
    "        sns.distplot(plot[0], bins=bins, color=color_list_unreach[j],\n",
    "                     kde=False, hist_kws=dict(cumulative=True,density=True,histtype='step', linewidth=2))\n",
    "        plt.xlabel('{} ratings'.format(cm)); \n",
    "        plt.ylabel('cumulative frequency'); \n",
    "    ax.margins(x=0)\n",
    "    st = fig.suptitle(\"Popularity of Unavailable Items\")\n",
    "\n",
    "    plt.tight_layout()\n",
    "    st.set_y(0.95)\n",
    "    fig.subplots_adjust(top=0.85)\n",
    "    plt.savefig(outfilestem+'ratings_distributions_reach_unreach.pdf', bbox_inches='tight')\n"
   ]
  },
  {
   "cell_type": "code",
   "execution_count": null,
   "metadata": {},
   "outputs": [],
   "source": []
  },
  {
   "cell_type": "code",
   "execution_count": null,
   "metadata": {
    "scrolled": false
   },
   "outputs": [],
   "source": [
    "## Mutable History user reachability vs. history length for multple n, new plots for new k\n",
    "\n",
    "hist_cutoff = 400\n",
    "\n",
    "for key, data in res_data.items():\n",
    "    \n",
    "\n",
    "\n",
    "    ## summary of something interest (one N/all k)\n",
    "    plt.figure(figsize=(6,5))\n",
    "    for i in [0,1]:\n",
    "        ax = plt.subplot(1,2,i+1)\n",
    "\n",
    "        for j,latent_dim in enumerate([16,32,64,256]):#latent_dims):\n",
    "            translate = {0:0, 1:1, 2:2, 3:4}\n",
    "\n",
    "            d = data[latent_dim]\n",
    "            n_items = len(d['item_hist_n'])\n",
    "    #         inds = d['user_hist_n'] <= hist_cutoff\n",
    "            yval = (d['aligned_user_reach'][:,0,i]) / (n_items-d['user_hist_n'])\n",
    "            ind_ord = np.argsort(yval)\n",
    "        #     plt.plot(d['user_hist_n'][ind_ord],yval[ind_ord], 'o', \n",
    "        #              label='k={}'.format(latent_dim), color=color_list_reach[j])\n",
    "            sns.regplot(d['user_hist_n'],yval,\n",
    "                           label='d={}'.format(latent_dim), color=color_list_reach[translate[j]], lowess=True, ci=None, truncate=True)\n",
    "        plt.title('Top-{} Recommended'.format(d['Ns'][i]), fontsize=MEDIUM_SIZE)\n",
    "        plt.ylabel('reachable percent of unseen items'); plt.xlabel('history length'); \n",
    "#         plt.ylim([0,1.1])\n",
    "#         plt.xlim([0,300])\n",
    "\n",
    "    plt.legend()\n",
    "\n",
    "    fig=gcf()\n",
    "\n",
    "    plt.tight_layout()\n",
    "    st = fig.suptitle(\"Amount of Recourse via History Edits\")\n",
    "    st.set_y(0.95)\n",
    "    fig.subplots_adjust(top=0.85)\n",
    "    plt.savefig(outfilestem+'user_reach_vs_history.pdf', bbox_inches='tight')\n"
   ]
  },
  {
   "cell_type": "code",
   "execution_count": null,
   "metadata": {
    "scrolled": false
   },
   "outputs": [],
   "source": [
    "## Next N/Random N as Box and Whisker Plots for different N/k\n",
    "\n",
    "for key, data in res_data.items():\n",
    "\n",
    "\n",
    "    rectype = ['next','random']\n",
    "    plt.figure(figsize=(6,3))\n",
    "    for i in range(1,len(data[16]['Ns'])-2):\n",
    "        k_for_df = []; percent_reach_for_df = []; rectype_for_df = []\n",
    "\n",
    "        for j in [1,2]:\n",
    "            for k in latent_dims:\n",
    "                n_items = len(data[k]['item_hist_n'])\n",
    "                k_for_df += [k] * data[k]['aligned_user_reach'].shape[0]\n",
    "                rectype_name = \"top-{}\".format(data[k]['Ns'][i]) if rectype[j-1] == \"next\" else \"random\"\n",
    "                rectype_for_df += [rectype_name] * data[k]['aligned_user_reach'].shape[0]\n",
    "                percent_reach_for_df += list((data[k]['aligned_user_reach'][:,j,i]) / (n_items-data[k]['user_hist_n']))\n",
    "\n",
    "        df = pd.DataFrame({\"latent dimension\": k_for_df, \"percent reachable\": percent_reach_for_df, \"recommendation\": rectype_for_df})\n",
    "\n",
    "        plt.subplot(1,1,1)\n",
    "        ax = sns.boxplot(x=\"latent dimension\", y=\"percent reachable\", hue=\"recommendation\", data=df, palette=\"Paired\")\n",
    "        plt.title('Amount of Recourse via Reactions')\n",
    "    plt.tight_layout()\n",
    "\n",
    "    plt.savefig(outfilestem+'rec_reachable_vs_k.pdf', bbox_inches='tight')\n",
    "\n"
   ]
  },
  {
   "cell_type": "code",
   "execution_count": null,
   "metadata": {},
   "outputs": [],
   "source": []
  },
  {
   "cell_type": "code",
   "execution_count": null,
   "metadata": {
    "scrolled": false
   },
   "outputs": [],
   "source": [
    "# Effect of History\n",
    "\n",
    "for key, data in res_data.items():\n",
    "\n",
    "\n",
    "    colors = sns.color_palette(\"Paired\", 2) # ['red','blue']\n",
    "    labels = ['top-5','random']\n",
    "    i=1\n",
    "    plt.figure(figsize=(6,2))\n",
    "    for j in [1,2]: # range(1,3):\n",
    "        for l,k in enumerate([latent_dims[0], latent_dims[-1]]):\n",
    "            plt.subplot(1,2,l+1)\n",
    "            d = data[k]\n",
    "            inds = d['user_hist_n'] <= 800 \n",
    "            plt.title('$d={}$'.format(k), fontsize=MEDIUM_SIZE)\n",
    "            sns.regplot(d['user_hist_n'][inds],(d['aligned_user_reach'][inds,j,i]) / (n_items-d['user_hist_n'][inds]),\n",
    "                       label=labels[j-1], color=colors[j-1], truncate=True,scatter_kws={'alpha':0.5})\n",
    "            plt.ylabel('percent reachable'); plt.xlabel('history length'); \n",
    "\n",
    "    # plt.legend()\n",
    "    plt.tight_layout()\n",
    "    plt.savefig(outfilestem+'rec_reachable_vs_history.pdf', bbox_inches='tight')\n",
    "\n"
   ]
  },
  {
   "cell_type": "code",
   "execution_count": null,
   "metadata": {},
   "outputs": [],
   "source": [
    "# DIFFICULTY!!!!\n",
    "for filename, datapath in zip(filenames, datapaths):\n",
    "\n",
    "    #TODO!\n",
    "    \n",
    "    if filename == 'fm':\n",
    "        break\n",
    "\n",
    "    latent_dims = [16, 32, 64, 128, 256, 512]\n",
    "\n",
    "    data = {}\n",
    "    for latent_dim in latent_dims:\n",
    "        savefile = os.path.join(datapath, filename+'_reachability_difficulty_k={}.npz'.format(latent_dim))\n",
    "        data[latent_dim] = np.load(savefile, allow_pickle=True)\n",
    "    res_data[filename] = data\n",
    "\n",
    "# 'user_difficulty' 'target_item_factor' 'user_factor' 'user_hist_n'"
   ]
  },
  {
   "cell_type": "code",
   "execution_count": null,
   "metadata": {},
   "outputs": [],
   "source": [
    "\n",
    "## Next N/Random N as Box and Whisker Plots for different N/k\n",
    "\n",
    "for data in [res_data['ml']]:\n",
    "\n",
    "\n",
    "    rectype = ['next','random']\n",
    "    plt.figure(figsize=(6,3))\n",
    "\n",
    "    k_for_df = []; difficulty = []; rectype_for_df = []\n",
    "    amount_reachable = []\n",
    "\n",
    "    for j in [1,2]:\n",
    "        for k in latent_dims:\n",
    "            k_for_df += [k] * data[k]['user_difficulty'].shape[0]\n",
    "            rectype_name = \"top-20\" if rectype[j-1] == \"next\" else \"random\"\n",
    "\n",
    "            rectype_for_df += [rectype_name] * data[k]['user_difficulty'].shape[0]\n",
    "            difficulty += list(data[k]['user_difficulty'][:,j].flatten())\n",
    "            amount_reachable.append(sum(data[k]['user_difficulty'][:,j].flatten()<np.inf))\n",
    "\n",
    "    df = pd.DataFrame({\"latent dimension\": k_for_df, \"cost\": difficulty, \"recommendation\": rectype_for_df})\n",
    "\n",
    "    plt.subplot(1,1,1)\n",
    "    ax = sns.boxplot(x=\"latent dimension\", y=\"cost\", hue=\"recommendation\", data=df[df['cost']< np.inf], palette=\"Paired\")\n",
    "    plt.title('Difficulty of Recourse')\n",
    "    plt.tight_layout()\n",
    "\n",
    "    plt.savefig(outfilestem+'rec_recourse_cost_vs_k.pdf', bbox_inches='tight')\n"
   ]
  },
  {
   "cell_type": "code",
   "execution_count": null,
   "metadata": {},
   "outputs": [],
   "source": []
  }
 ],
 "metadata": {
  "kernelspec": {
   "display_name": "Python 3",
   "language": "python",
   "name": "python3"
  },
  "language_info": {
   "codemirror_mode": {
    "name": "ipython",
    "version": 3
   },
   "file_extension": ".py",
   "mimetype": "text/x-python",
   "name": "python",
   "nbconvert_exporter": "python",
   "pygments_lexer": "ipython3",
   "version": "3.7.6"
  }
 },
 "nbformat": 4,
 "nbformat_minor": 2
}
