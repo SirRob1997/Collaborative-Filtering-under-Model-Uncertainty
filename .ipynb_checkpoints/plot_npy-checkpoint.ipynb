{
 "cells": [
  {
   "cell_type": "markdown",
   "metadata": {},
   "source": [
    "For LastFM Dataset"
   ]
  },
  {
   "cell_type": "code",
   "execution_count": 1,
   "metadata": {},
   "outputs": [],
   "source": [
    "import numpy as np\n",
    "data_16_diff = np.load('lastfm-dataset-1K/results/fm_test_reachability_difficulty_k=16.npz', allow_pickle=True)\n",
    "data_16 = np.load('lastfm-dataset-1K/results/fm_test_reachability_k=16.npz', allow_pickle=True)\n",
    "\n",
    "data_32_diff = np.load('lastfm-dataset-1K/results/fm_test_reachability_difficulty_k=32.npz', allow_pickle=True)\n",
    "data_32 = np.load('lastfm-dataset-1K/results/fm_test_reachability_k=32.npz', allow_pickle=True)\n",
    "\n",
    "data_64_diff = np.load('lastfm-dataset-1K/results/fm_test_reachability_difficulty_k=64.npz', allow_pickle=True)\n",
    "data_64 = np.load('lastfm-dataset-1K/results/fm_test_reachability_k=64.npz', allow_pickle=True)\n",
    "\n",
    "data_128_diff = np.load('lastfm-dataset-1K/results/fm_test_reachability_difficulty_k=128.npz', allow_pickle=True)\n",
    "data_128 = np.load('lastfm-dataset-1K/results/fm_test_reachability_k=128.npz', allow_pickle=True)\n",
    "\n",
    "data_256_diff = np.load('lastfm-dataset-1K/results/fm_test_reachability_difficulty_k=256.npz', allow_pickle=True)\n",
    "data_256 = np.load('lastfm-dataset-1K/results/fm_test_reachability_k=256.npz', allow_pickle=True)\n",
    "\n",
    "data_512_diff = np.load('lastfm-dataset-1K/results/fm_test_reachability_difficulty_k=512.npz', allow_pickle=True)\n",
    "data_512 = np.load('lastfm-dataset-1K/results/fm_test_reachability_k=512.npz', allow_pickle=True)\n"
   ]
  },
  {
   "cell_type": "code",
   "execution_count": 2,
   "metadata": {},
   "outputs": [
    {
     "name": "stdout",
     "output_type": "stream",
     "text": [
      "1   120\n",
      "2   165\n",
      "3   199\n",
      "5   241\n",
      "20   409\n",
      "100   946\n"
     ]
    }
   ],
   "source": [
    "ns16 = data_16['Ns']\n",
    "reachable_items16 = data_16['reachable_items']\n",
    "\n",
    "for i in range(ns16.size):\n",
    "    print (ns16[i], \" \", reachable_items16[i].size)"
   ]
  },
  {
   "cell_type": "code",
   "execution_count": 3,
   "metadata": {},
   "outputs": [
    {
     "name": "stdout",
     "output_type": "stream",
     "text": [
      "1   229\n",
      "2   293\n",
      "3   338\n",
      "5   390\n",
      "20   636\n",
      "100   1479\n"
     ]
    }
   ],
   "source": [
    "ns32 = data_32['Ns']\n",
    "reachable_items32 = data_32['reachable_items']\n",
    "\n",
    "for i in range(ns32.size):\n",
    "    print (ns32[i], \" \", reachable_items32[i].size)"
   ]
  },
  {
   "cell_type": "code",
   "execution_count": 4,
   "metadata": {},
   "outputs": [
    {
     "name": "stdout",
     "output_type": "stream",
     "text": [
      "1   369\n",
      "2   477\n",
      "3   540\n",
      "5   637\n",
      "20   1109\n",
      "100   2885\n"
     ]
    }
   ],
   "source": [
    "ns64 = data_64['Ns']\n",
    "reachable_items64 = data_64['reachable_items']\n",
    "\n",
    "for i in range(ns64.size):\n",
    "    print (ns64[i], \" \", reachable_items64[i].size)"
   ]
  },
  {
   "cell_type": "code",
   "execution_count": 5,
   "metadata": {},
   "outputs": [
    {
     "name": "stdout",
     "output_type": "stream",
     "text": [
      "1   652\n",
      "2   942\n",
      "3   1123\n",
      "5   1478\n",
      "20   3962\n",
      "100   13870\n"
     ]
    }
   ],
   "source": [
    "ns128 = data_128['Ns']\n",
    "reachable_items128 = data_128['reachable_items']\n",
    "\n",
    "for i in range(ns128.size):\n",
    "    print (ns128[i], \" \", reachable_items128[i].size)"
   ]
  },
  {
   "cell_type": "code",
   "execution_count": 6,
   "metadata": {},
   "outputs": [
    {
     "name": "stdout",
     "output_type": "stream",
     "text": [
      "1   8278\n",
      "2   11924\n",
      "3   13988\n",
      "5   16805\n",
      "20   21336\n",
      "100   23529\n"
     ]
    }
   ],
   "source": [
    "ns256 = data_256['Ns']\n",
    "reachable_items256 = data_256['reachable_items']\n",
    "\n",
    "for i in range(ns256.size):\n",
    "    print (ns256[i], \" \", reachable_items256[i].size)"
   ]
  },
  {
   "cell_type": "code",
   "execution_count": 7,
   "metadata": {},
   "outputs": [
    {
     "name": "stdout",
     "output_type": "stream",
     "text": [
      "1   22673\n",
      "2   23117\n",
      "3   23337\n",
      "5   23562\n",
      "20   23867\n",
      "100   23974\n"
     ]
    }
   ],
   "source": [
    "ns512 = data_512['Ns']\n",
    "reachable_items512 = data_512['reachable_items']\n",
    "\n",
    "for i in range(ns512.size):\n",
    "    print (ns512[i], \" \", reachable_items512[i].size)"
   ]
  },
  {
   "cell_type": "code",
   "execution_count": 8,
   "metadata": {},
   "outputs": [],
   "source": [
    "import pandas as pd\n",
    "\n",
    "ns = np.concatenate((ns16, ns32, ns64, ns128, ns256, ns512))\n",
    "reachable_items = np.concatenate((reachable_items16, reachable_items32, reachable_items64, reachable_items128, reachable_items256,reachable_items512))\n",
    "\n",
    "a = np.zeros(((ns.size*(ns.size-1))//2, 5), dtype=np.int)\n",
    "a_i = 0\n",
    "\n",
    "for i in range(ns.size):\n",
    "    for j in range(i + 1, ns.size):\n",
    "        \n",
    "        schnittmenge = 0\n",
    "        h = 0\n",
    "        \n",
    "        for x in reachable_items[i]:\n",
    "            while (h < reachable_items[j].size and reachable_items[j][h] < x):\n",
    "                    h += 1\n",
    "            if(h < reachable_items[j].size):  \n",
    "                if reachable_items[j][h] == x:\n",
    "                    schnittmenge += 1\n",
    "            \n",
    "        a[a_i][0] = i\n",
    "        a[a_i][1] = j\n",
    "        a[a_i][2] = schnittmenge\n",
    "        a[a_i][3] = np.absolute(reachable_items[i].size - reachable_items[j].size)\n",
    "        a[a_i][4] = np.minimum(reachable_items[i].size, reachable_items[j].size) - schnittmenge\n",
    "\n",
    "        a_i += 1\n",
    "        \n",
    "#         print(\"Eingabewerte: \", reachable_items[i].size, \" \",reachable_items[j].size,)\n",
    "#         print(\"Schnittmenge: \", schnittmenge)\n",
    "\n",
    "pd.DataFrame(a).to_csv('lastfm_availability.csv', header=(\"First Model\", \"Second Model\", \"No. of common elements\", \"Difference in availability\", \"No. of diverging elements\"), index=False)"
   ]
  },
  {
   "cell_type": "code",
   "execution_count": null,
   "metadata": {},
   "outputs": [],
   "source": []
  },
  {
   "cell_type": "markdown",
   "metadata": {},
   "source": [
    "For MovieLens Dataset (basically the same code):"
   ]
  },
  {
   "cell_type": "code",
   "execution_count": 9,
   "metadata": {},
   "outputs": [],
   "source": [
    "data_16_diff = np.load('ml-10M100K/ml_test_reachability_difficulty_k=16.npz', allow_pickle=True)\n",
    "data_16 = np.load('ml-10M100K/ml_test_reachability_k=16.npz', allow_pickle=True)\n",
    "\n",
    "data_32_diff = np.load('ml-10M100K/ml_test_reachability_difficulty_k=32.npz', allow_pickle=True)\n",
    "data_32 = np.load('ml-10M100K/ml_test_reachability_k=32.npz', allow_pickle=True)\n",
    "\n",
    "data_64_diff = np.load('ml-10M100K/ml_test_reachability_difficulty_k=64.npz', allow_pickle=True)\n",
    "data_64 = np.load('ml-10M100K/ml_test_reachability_k=64.npz', allow_pickle=True)\n",
    "\n",
    "data_128_diff = np.load('ml-10M100K/ml_test_reachability_difficulty_k=128.npz', allow_pickle=True)\n",
    "data_128 = np.load('ml-10M100K/ml_test_reachability_k=128.npz', allow_pickle=True)\n",
    "\n",
    "data_256_diff = np.load('ml-10M100K/ml_test_reachability_difficulty_k=256.npz', allow_pickle=True)\n",
    "data_256 = np.load('ml-10M100K/ml_test_reachability_k=256.npz', allow_pickle=True)\n",
    "\n",
    "data_512_diff = np.load('ml-10M100K/ml_test_reachability_difficulty_k=512.npz', allow_pickle=True)\n",
    "data_512 = np.load('ml-10M100K/ml_test_reachability_k=512.npz', allow_pickle=True)\n",
    "\n",
    "ns16 = data_16['Ns']\n",
    "reachable_items16 = data_16['reachable_items']\n",
    "ns32 = data_32['Ns']\n",
    "reachable_items32 = data_32['reachable_items']\n",
    "ns64 = data_64['Ns']\n",
    "reachable_items64 = data_64['reachable_items']\n",
    "ns128 = data_128['Ns']\n",
    "reachable_items128 = data_128['reachable_items']\n",
    "ns256 = data_256['Ns']\n",
    "reachable_items256 = data_256['reachable_items']\n",
    "ns512 = data_512['Ns']\n",
    "reachable_items512 = data_512['reachable_items']\n",
    "\n",
    "ns = np.concatenate((ns16, ns32, ns64, ns128, ns256, ns512))\n",
    "reachable_items = np.concatenate((reachable_items16, reachable_items32,reachable_items64, reachable_items128, reachable_items256, reachable_items512))\n",
    "\n",
    "a = np.zeros(((ns.size*(ns.size-1))//2, 5), dtype=np.int)\n",
    "a_i = 0\n",
    "\n",
    "for i in range(ns.size):\n",
    "    for j in range(i + 1, ns.size):\n",
    "        \n",
    "        schnittmenge = 0\n",
    "        h = 0\n",
    "        \n",
    "        for x in reachable_items[i]:\n",
    "            while (h < reachable_items[j].size and reachable_items[j][h] < x):\n",
    "                    h += 1\n",
    "            if(h < reachable_items[j].size):  \n",
    "                if reachable_items[j][h] == x:\n",
    "                    schnittmenge += 1\n",
    "            \n",
    "        a[a_i][0] = i\n",
    "        a[a_i][1] = j\n",
    "        a[a_i][2] = schnittmenge\n",
    "        a[a_i][3] = np.absolute(reachable_items[i].size - reachable_items[j].size)\n",
    "        a[a_i][4] = np.minimum(reachable_items[i].size, reachable_items[j].size) - schnittmenge\n",
    "\n",
    "        a_i += 1\n",
    "\n",
    "pd.DataFrame(a).to_csv('ml_availability.csv', header=(\"First Model\", \"Second Model\", \"No. of common elements\", \"Difference in availability\", \"No. of diverging elements\"), index=False)"
   ]
  },
  {
   "cell_type": "markdown",
   "metadata": {},
   "source": [
    "Alter Code\n",
    "\n",
    "import numpy as np\n",
    "data = np.load('results/reachability/reachable_items.npy', allow_pickle=True)\n",
    "print (\"N = 1: \", data[0].size)\n",
    "print (\"N = 5: \", data[1].size)\n",
    "print (\"N = 20: \", data[2].size)\n",
    "print (\"N = 100: \", data[3].size)\n",
    "\n",
    "schnittmenge = 0\n",
    "i = 0\n",
    "\n",
    "for x in data[0]:\n",
    "    while (data[1][i] < x):\n",
    "        i += 1\n",
    "        \n",
    "    if data[1][i] == x:\n",
    "            schnittmenge += 1\n",
    "\n",
    "print(\"Erwartung: \", data[0].size)\n",
    "print(\"Schnittmenge N = 1/5: \", schnittmenge)\n",
    "\n",
    "schnittmenge = 0\n",
    "i = 0\n",
    "\n",
    "for x in data[0]:\n",
    "    while (data[2][i] < x):\n",
    "        i += 1\n",
    "        \n",
    "    if data[2][i] == x:\n",
    "            schnittmenge += 1\n",
    "        \n",
    "print(\"Erwartung: \", data[0].size)        \n",
    "print(\"Schnittmenge N = 1/20: \", schnittmenge)\n",
    "\n",
    "schnittmenge = 0\n",
    "i = 0\n",
    "\n",
    "for x in data[0]:\n",
    "    while (data[3][i] < x):\n",
    "        i += 1\n",
    "        \n",
    "    if data[3][i] == x:\n",
    "            schnittmenge += 1\n",
    "            \n",
    "print(\"Erwartung: \", data[0].size)        \n",
    "print(\"Schnittmenge N = 1/100: \", schnittmenge)\n",
    "\n",
    "schnittmenge = 0\n",
    "i = 0\n",
    "\n",
    "for x in data[1]:\n",
    "    while (data[2][i] < x):\n",
    "        i += 1\n",
    "        \n",
    "    if data[2][i] == x:\n",
    "            schnittmenge += 1\n",
    "            \n",
    "print(\"Erwartung: \", data[1].size)        \n",
    "print(\"Schnittmenge N = 5/20: \", schnittmenge)\n",
    "\n",
    "schnittmenge = 0\n",
    "i = 0\n",
    "\n",
    "for x in data[1]:\n",
    "    while (data[3][i] < x):\n",
    "        i += 1\n",
    "        \n",
    "    if data[3][i] == x:\n",
    "            schnittmenge += 1\n",
    "            \n",
    "print(\"Erwartung: \", data[1].size)        \n",
    "print(\"Schnittmenge N = 5/100: \", schnittmenge)\n",
    "\n",
    "schnittmenge = 0\n",
    "i = 0\n",
    "\n",
    "for x in data[2]:\n",
    "    while (data[3][i] < x):\n",
    "        i += 1\n",
    "        \n",
    "    if data[3][i] == x:\n",
    "            schnittmenge += 1\n",
    "        \n",
    "print(\"Erwartung: \", data[2].size)        \n",
    "print(\"Schnittmenge N = 20/100: \", schnittmenge)\n"
   ]
  },
  {
   "cell_type": "code",
   "execution_count": 65,
   "metadata": {},
   "outputs": [
    {
     "ename": "TypeError",
     "evalue": "cannot do slice indexing on <class 'pandas.core.indexes.base.Index'> with these indexers [4] of <class 'int'>",
     "output_type": "error",
     "traceback": [
      "\u001b[0;31m---------------------------------------------------------------------------\u001b[0m",
      "\u001b[0;31mTypeError\u001b[0m                                 Traceback (most recent call last)",
      "\u001b[0;32m<ipython-input-65-5f0e70dd8f00>\u001b[0m in \u001b[0;36m<module>\u001b[0;34m\u001b[0m\n\u001b[1;32m     24\u001b[0m \u001b[0;34m\u001b[0m\u001b[0m\n\u001b[1;32m     25\u001b[0m \u001b[0;31m# Compress the color range\u001b[0m\u001b[0;34m\u001b[0m\u001b[0;34m\u001b[0m\u001b[0;34m\u001b[0m\u001b[0m\n\u001b[0;32m---> 26\u001b[0;31m (df.loc[:4]\n\u001b[0m\u001b[1;32m     27\u001b[0m     \u001b[0;34m.\u001b[0m\u001b[0mstyle\u001b[0m\u001b[0;34m\u001b[0m\u001b[0;34m\u001b[0m\u001b[0m\n\u001b[1;32m     28\u001b[0m     \u001b[0;34m.\u001b[0m\u001b[0mbackground_gradient\u001b[0m\u001b[0;34m(\u001b[0m\u001b[0mcmap\u001b[0m\u001b[0;34m=\u001b[0m\u001b[0;34m'viridis'\u001b[0m\u001b[0;34m,\u001b[0m \u001b[0mlow\u001b[0m\u001b[0;34m=\u001b[0m\u001b[0;36m.5\u001b[0m\u001b[0;34m,\u001b[0m \u001b[0mhigh\u001b[0m\u001b[0;34m=\u001b[0m\u001b[0;36m0\u001b[0m\u001b[0;34m)\u001b[0m\u001b[0;34m\u001b[0m\u001b[0;34m\u001b[0m\u001b[0m\n",
      "\u001b[0;32m~/anaconda3/lib/python3.7/site-packages/pandas/core/indexing.py\u001b[0m in \u001b[0;36m__getitem__\u001b[0;34m(self, key)\u001b[0m\n\u001b[1;32m   1765\u001b[0m \u001b[0;34m\u001b[0m\u001b[0m\n\u001b[1;32m   1766\u001b[0m             \u001b[0mmaybe_callable\u001b[0m \u001b[0;34m=\u001b[0m \u001b[0mcom\u001b[0m\u001b[0;34m.\u001b[0m\u001b[0mapply_if_callable\u001b[0m\u001b[0;34m(\u001b[0m\u001b[0mkey\u001b[0m\u001b[0;34m,\u001b[0m \u001b[0mself\u001b[0m\u001b[0;34m.\u001b[0m\u001b[0mobj\u001b[0m\u001b[0;34m)\u001b[0m\u001b[0;34m\u001b[0m\u001b[0;34m\u001b[0m\u001b[0m\n\u001b[0;32m-> 1767\u001b[0;31m             \u001b[0;32mreturn\u001b[0m \u001b[0mself\u001b[0m\u001b[0;34m.\u001b[0m\u001b[0m_getitem_axis\u001b[0m\u001b[0;34m(\u001b[0m\u001b[0mmaybe_callable\u001b[0m\u001b[0;34m,\u001b[0m \u001b[0maxis\u001b[0m\u001b[0;34m=\u001b[0m\u001b[0maxis\u001b[0m\u001b[0;34m)\u001b[0m\u001b[0;34m\u001b[0m\u001b[0;34m\u001b[0m\u001b[0m\n\u001b[0m\u001b[1;32m   1768\u001b[0m \u001b[0;34m\u001b[0m\u001b[0m\n\u001b[1;32m   1769\u001b[0m     \u001b[0;32mdef\u001b[0m \u001b[0m_is_scalar_access\u001b[0m\u001b[0;34m(\u001b[0m\u001b[0mself\u001b[0m\u001b[0;34m,\u001b[0m \u001b[0mkey\u001b[0m\u001b[0;34m:\u001b[0m \u001b[0mTuple\u001b[0m\u001b[0;34m)\u001b[0m\u001b[0;34m:\u001b[0m\u001b[0;34m\u001b[0m\u001b[0;34m\u001b[0m\u001b[0m\n",
      "\u001b[0;32m~/anaconda3/lib/python3.7/site-packages/pandas/core/indexing.py\u001b[0m in \u001b[0;36m_getitem_axis\u001b[0;34m(self, key, axis)\u001b[0m\n\u001b[1;32m   1909\u001b[0m         \u001b[0;32mif\u001b[0m \u001b[0misinstance\u001b[0m\u001b[0;34m(\u001b[0m\u001b[0mkey\u001b[0m\u001b[0;34m,\u001b[0m \u001b[0mslice\u001b[0m\u001b[0;34m)\u001b[0m\u001b[0;34m:\u001b[0m\u001b[0;34m\u001b[0m\u001b[0;34m\u001b[0m\u001b[0m\n\u001b[1;32m   1910\u001b[0m             \u001b[0mself\u001b[0m\u001b[0;34m.\u001b[0m\u001b[0m_validate_key\u001b[0m\u001b[0;34m(\u001b[0m\u001b[0mkey\u001b[0m\u001b[0;34m,\u001b[0m \u001b[0maxis\u001b[0m\u001b[0;34m)\u001b[0m\u001b[0;34m\u001b[0m\u001b[0;34m\u001b[0m\u001b[0m\n\u001b[0;32m-> 1911\u001b[0;31m             \u001b[0;32mreturn\u001b[0m \u001b[0mself\u001b[0m\u001b[0;34m.\u001b[0m\u001b[0m_get_slice_axis\u001b[0m\u001b[0;34m(\u001b[0m\u001b[0mkey\u001b[0m\u001b[0;34m,\u001b[0m \u001b[0maxis\u001b[0m\u001b[0;34m=\u001b[0m\u001b[0maxis\u001b[0m\u001b[0;34m)\u001b[0m\u001b[0;34m\u001b[0m\u001b[0;34m\u001b[0m\u001b[0m\n\u001b[0m\u001b[1;32m   1912\u001b[0m         \u001b[0;32melif\u001b[0m \u001b[0mcom\u001b[0m\u001b[0;34m.\u001b[0m\u001b[0mis_bool_indexer\u001b[0m\u001b[0;34m(\u001b[0m\u001b[0mkey\u001b[0m\u001b[0;34m)\u001b[0m\u001b[0;34m:\u001b[0m\u001b[0;34m\u001b[0m\u001b[0;34m\u001b[0m\u001b[0m\n\u001b[1;32m   1913\u001b[0m             \u001b[0;32mreturn\u001b[0m \u001b[0mself\u001b[0m\u001b[0;34m.\u001b[0m\u001b[0m_getbool_axis\u001b[0m\u001b[0;34m(\u001b[0m\u001b[0mkey\u001b[0m\u001b[0;34m,\u001b[0m \u001b[0maxis\u001b[0m\u001b[0;34m=\u001b[0m\u001b[0maxis\u001b[0m\u001b[0;34m)\u001b[0m\u001b[0;34m\u001b[0m\u001b[0;34m\u001b[0m\u001b[0m\n",
      "\u001b[0;32m~/anaconda3/lib/python3.7/site-packages/pandas/core/indexing.py\u001b[0m in \u001b[0;36m_get_slice_axis\u001b[0;34m(self, slice_obj, axis)\u001b[0m\n\u001b[1;32m   1794\u001b[0m         \u001b[0mlabels\u001b[0m \u001b[0;34m=\u001b[0m \u001b[0mobj\u001b[0m\u001b[0;34m.\u001b[0m\u001b[0m_get_axis\u001b[0m\u001b[0;34m(\u001b[0m\u001b[0maxis\u001b[0m\u001b[0;34m)\u001b[0m\u001b[0;34m\u001b[0m\u001b[0;34m\u001b[0m\u001b[0m\n\u001b[1;32m   1795\u001b[0m         indexer = labels.slice_indexer(\n\u001b[0;32m-> 1796\u001b[0;31m             \u001b[0mslice_obj\u001b[0m\u001b[0;34m.\u001b[0m\u001b[0mstart\u001b[0m\u001b[0;34m,\u001b[0m \u001b[0mslice_obj\u001b[0m\u001b[0;34m.\u001b[0m\u001b[0mstop\u001b[0m\u001b[0;34m,\u001b[0m \u001b[0mslice_obj\u001b[0m\u001b[0;34m.\u001b[0m\u001b[0mstep\u001b[0m\u001b[0;34m,\u001b[0m \u001b[0mkind\u001b[0m\u001b[0;34m=\u001b[0m\u001b[0mself\u001b[0m\u001b[0;34m.\u001b[0m\u001b[0mname\u001b[0m\u001b[0;34m\u001b[0m\u001b[0;34m\u001b[0m\u001b[0m\n\u001b[0m\u001b[1;32m   1797\u001b[0m         )\n\u001b[1;32m   1798\u001b[0m \u001b[0;34m\u001b[0m\u001b[0m\n",
      "\u001b[0;32m~/anaconda3/lib/python3.7/site-packages/pandas/core/indexes/base.py\u001b[0m in \u001b[0;36mslice_indexer\u001b[0;34m(self, start, end, step, kind)\u001b[0m\n\u001b[1;32m   4711\u001b[0m         \u001b[0mslice\u001b[0m\u001b[0;34m(\u001b[0m\u001b[0;36m1\u001b[0m\u001b[0;34m,\u001b[0m \u001b[0;36m3\u001b[0m\u001b[0;34m)\u001b[0m\u001b[0;34m\u001b[0m\u001b[0;34m\u001b[0m\u001b[0m\n\u001b[1;32m   4712\u001b[0m         \"\"\"\n\u001b[0;32m-> 4713\u001b[0;31m         \u001b[0mstart_slice\u001b[0m\u001b[0;34m,\u001b[0m \u001b[0mend_slice\u001b[0m \u001b[0;34m=\u001b[0m \u001b[0mself\u001b[0m\u001b[0;34m.\u001b[0m\u001b[0mslice_locs\u001b[0m\u001b[0;34m(\u001b[0m\u001b[0mstart\u001b[0m\u001b[0;34m,\u001b[0m \u001b[0mend\u001b[0m\u001b[0;34m,\u001b[0m \u001b[0mstep\u001b[0m\u001b[0;34m=\u001b[0m\u001b[0mstep\u001b[0m\u001b[0;34m,\u001b[0m \u001b[0mkind\u001b[0m\u001b[0;34m=\u001b[0m\u001b[0mkind\u001b[0m\u001b[0;34m)\u001b[0m\u001b[0;34m\u001b[0m\u001b[0;34m\u001b[0m\u001b[0m\n\u001b[0m\u001b[1;32m   4714\u001b[0m \u001b[0;34m\u001b[0m\u001b[0m\n\u001b[1;32m   4715\u001b[0m         \u001b[0;31m# return a slice\u001b[0m\u001b[0;34m\u001b[0m\u001b[0;34m\u001b[0m\u001b[0;34m\u001b[0m\u001b[0m\n",
      "\u001b[0;32m~/anaconda3/lib/python3.7/site-packages/pandas/core/indexes/base.py\u001b[0m in \u001b[0;36mslice_locs\u001b[0;34m(self, start, end, step, kind)\u001b[0m\n\u001b[1;32m   4930\u001b[0m         \u001b[0mend_slice\u001b[0m \u001b[0;34m=\u001b[0m \u001b[0;32mNone\u001b[0m\u001b[0;34m\u001b[0m\u001b[0;34m\u001b[0m\u001b[0m\n\u001b[1;32m   4931\u001b[0m         \u001b[0;32mif\u001b[0m \u001b[0mend\u001b[0m \u001b[0;32mis\u001b[0m \u001b[0;32mnot\u001b[0m \u001b[0;32mNone\u001b[0m\u001b[0;34m:\u001b[0m\u001b[0;34m\u001b[0m\u001b[0;34m\u001b[0m\u001b[0m\n\u001b[0;32m-> 4932\u001b[0;31m             \u001b[0mend_slice\u001b[0m \u001b[0;34m=\u001b[0m \u001b[0mself\u001b[0m\u001b[0;34m.\u001b[0m\u001b[0mget_slice_bound\u001b[0m\u001b[0;34m(\u001b[0m\u001b[0mend\u001b[0m\u001b[0;34m,\u001b[0m \u001b[0;34m\"right\"\u001b[0m\u001b[0;34m,\u001b[0m \u001b[0mkind\u001b[0m\u001b[0;34m)\u001b[0m\u001b[0;34m\u001b[0m\u001b[0;34m\u001b[0m\u001b[0m\n\u001b[0m\u001b[1;32m   4933\u001b[0m         \u001b[0;32mif\u001b[0m \u001b[0mend_slice\u001b[0m \u001b[0;32mis\u001b[0m \u001b[0;32mNone\u001b[0m\u001b[0;34m:\u001b[0m\u001b[0;34m\u001b[0m\u001b[0;34m\u001b[0m\u001b[0m\n\u001b[1;32m   4934\u001b[0m             \u001b[0mend_slice\u001b[0m \u001b[0;34m=\u001b[0m \u001b[0mlen\u001b[0m\u001b[0;34m(\u001b[0m\u001b[0mself\u001b[0m\u001b[0;34m)\u001b[0m\u001b[0;34m\u001b[0m\u001b[0;34m\u001b[0m\u001b[0m\n",
      "\u001b[0;32m~/anaconda3/lib/python3.7/site-packages/pandas/core/indexes/base.py\u001b[0m in \u001b[0;36mget_slice_bound\u001b[0;34m(self, label, side, kind)\u001b[0m\n\u001b[1;32m   4836\u001b[0m         \u001b[0;31m# For datetime indices label may be a string that has to be converted\u001b[0m\u001b[0;34m\u001b[0m\u001b[0;34m\u001b[0m\u001b[0;34m\u001b[0m\u001b[0m\n\u001b[1;32m   4837\u001b[0m         \u001b[0;31m# to datetime boundary according to its resolution.\u001b[0m\u001b[0;34m\u001b[0m\u001b[0;34m\u001b[0m\u001b[0;34m\u001b[0m\u001b[0m\n\u001b[0;32m-> 4838\u001b[0;31m         \u001b[0mlabel\u001b[0m \u001b[0;34m=\u001b[0m \u001b[0mself\u001b[0m\u001b[0;34m.\u001b[0m\u001b[0m_maybe_cast_slice_bound\u001b[0m\u001b[0;34m(\u001b[0m\u001b[0mlabel\u001b[0m\u001b[0;34m,\u001b[0m \u001b[0mside\u001b[0m\u001b[0;34m,\u001b[0m \u001b[0mkind\u001b[0m\u001b[0;34m)\u001b[0m\u001b[0;34m\u001b[0m\u001b[0;34m\u001b[0m\u001b[0m\n\u001b[0m\u001b[1;32m   4839\u001b[0m \u001b[0;34m\u001b[0m\u001b[0m\n\u001b[1;32m   4840\u001b[0m         \u001b[0;31m# we need to look up the label\u001b[0m\u001b[0;34m\u001b[0m\u001b[0;34m\u001b[0m\u001b[0;34m\u001b[0m\u001b[0m\n",
      "\u001b[0;32m~/anaconda3/lib/python3.7/site-packages/pandas/core/indexes/base.py\u001b[0m in \u001b[0;36m_maybe_cast_slice_bound\u001b[0;34m(self, label, side, kind)\u001b[0m\n\u001b[1;32m   4788\u001b[0m         \u001b[0;31m# this is rejected (generally .loc gets you here)\u001b[0m\u001b[0;34m\u001b[0m\u001b[0;34m\u001b[0m\u001b[0;34m\u001b[0m\u001b[0m\n\u001b[1;32m   4789\u001b[0m         \u001b[0;32melif\u001b[0m \u001b[0mis_integer\u001b[0m\u001b[0;34m(\u001b[0m\u001b[0mlabel\u001b[0m\u001b[0;34m)\u001b[0m\u001b[0;34m:\u001b[0m\u001b[0;34m\u001b[0m\u001b[0;34m\u001b[0m\u001b[0m\n\u001b[0;32m-> 4790\u001b[0;31m             \u001b[0mself\u001b[0m\u001b[0;34m.\u001b[0m\u001b[0m_invalid_indexer\u001b[0m\u001b[0;34m(\u001b[0m\u001b[0;34m\"slice\"\u001b[0m\u001b[0;34m,\u001b[0m \u001b[0mlabel\u001b[0m\u001b[0;34m)\u001b[0m\u001b[0;34m\u001b[0m\u001b[0;34m\u001b[0m\u001b[0m\n\u001b[0m\u001b[1;32m   4791\u001b[0m \u001b[0;34m\u001b[0m\u001b[0m\n\u001b[1;32m   4792\u001b[0m         \u001b[0;32mreturn\u001b[0m \u001b[0mlabel\u001b[0m\u001b[0;34m\u001b[0m\u001b[0;34m\u001b[0m\u001b[0m\n",
      "\u001b[0;32m~/anaconda3/lib/python3.7/site-packages/pandas/core/indexes/base.py\u001b[0m in \u001b[0;36m_invalid_indexer\u001b[0;34m(self, form, key)\u001b[0m\n\u001b[1;32m   3075\u001b[0m         \"\"\"\n\u001b[1;32m   3076\u001b[0m         raise TypeError(\n\u001b[0;32m-> 3077\u001b[0;31m             \u001b[0;34mf\"cannot do {form} indexing on {type(self)} with these \"\u001b[0m\u001b[0;34m\u001b[0m\u001b[0;34m\u001b[0m\u001b[0m\n\u001b[0m\u001b[1;32m   3078\u001b[0m             \u001b[0;34mf\"indexers [{key}] of {type(key)}\"\u001b[0m\u001b[0;34m\u001b[0m\u001b[0;34m\u001b[0m\u001b[0m\n\u001b[1;32m   3079\u001b[0m         )\n",
      "\u001b[0;31mTypeError\u001b[0m: cannot do slice indexing on <class 'pandas.core.indexes.base.Index'> with these indexers [4] of <class 'int'>"
     ]
    }
   ],
   "source": [
    "import pandas as pd\n",
    "import numpy as np\n",
    "\n",
    "students = [ ('jack', 34, 'Sydeny' , 'Australia') ,\n",
    "             ('Riti', 30, 'Delhi' , 'India' ) ,\n",
    "             ('Vikas', 31, 'Mumbai' , 'India' ) ,\n",
    "             ('Neelu', 32, 'Bangalore' , 'India' ) ,\n",
    "             ('John', 16, 'New York' , 'US') ,\n",
    "             ('Mike', 17, 'las vegas' , 'US')  ]\n",
    "# Create DataFrame object from a list of tuples\n",
    "df = pd.DataFrame(students, columns = ['Name' , 'Age', 'City' , 'Country'], index=['a', 'b', 'c' , 'd' , 'e' , 'f'])\n",
    "\n",
    "for i in range(0, 4):\n",
    "    for j in range(0, i):\n",
    "        df.iloc[i, j] = ''\n",
    "\n",
    "\n",
    "# import seaborn as sns\n",
    "\n",
    "# cm = sns.light_palette(\"green\", as_cmap=True)\n",
    "\n",
    "# s = df.style.background_gradient(cmap=cm)\n",
    "\n",
    "\n",
    "# Compress the color range\n",
    "(df.style\n",
    "    .background_gradient(cmap='viridis', low=.5, high=0)\n",
    "    .highlight_null('black'))\n",
    "\n"
   ]
  },
  {
   "cell_type": "code",
   "execution_count": null,
   "metadata": {},
   "outputs": [],
   "source": [
    "    >>> df.A.replace('', np.nan, inplace = True)\n",
    "    >>> df\n",
    "         A   B\n",
    "    0  1.0   6\n",
    "    1  2.0   7\n",
    "    2  NaN    \n",
    "    3  4.0    \n",
    "    4  NaN  10"
   ]
  }
 ],
 "metadata": {
  "kernelspec": {
   "display_name": "Python 3",
   "language": "python",
   "name": "python3"
  },
  "language_info": {
   "codemirror_mode": {
    "name": "ipython",
    "version": 3
   },
   "file_extension": ".py",
   "mimetype": "text/x-python",
   "name": "python",
   "nbconvert_exporter": "python",
   "pygments_lexer": "ipython3",
   "version": "3.7.6"
  }
 },
 "nbformat": 4,
 "nbformat_minor": 4
}
